{
 "cells": [
  {
   "cell_type": "markdown",
   "metadata": {},
   "source": [
    "# ICE exchange feed analysis"
   ]
  },
  {
   "cell_type": "code",
   "execution_count": 40,
   "metadata": {
    "collapsed": true
   },
   "outputs": [],
   "source": [
    "%matplotlib inline\n",
    "import csv\n",
    "import numpy as np\n",
    "import matplotlib.pyplot as plt\n",
    "import pandas as pd"
   ]
  },
  {
   "cell_type": "markdown",
   "metadata": {},
   "source": [
    "## FIX/CTF format\n",
    "The CTF wire protocol is designed for efficient exchange of data and commands between ICE Data Services information products and customers. The protocol enables users of the Client Site Processor (CSP) to receive content from different exchanges using a uniform set of fields\n",
    "\n",
    "### Filed Order, Length and Descriptions\n",
    "\n",
    "| **Field name**           | Fram start | Protocol signature | Length (Bytes)                  | Param                              | Delim   | ... | Param                              | Frame end |\n",
    "|----------------------|------------|--------------------|-----------------------------|------------------------------------|---------|-----|------------------------------------|----------|\n",
    "| **Field length (bytes)** | 1          | 1                  | 4                           | Variable                           | 1       | ... | Varaiable                          | 1        |\n",
    "| **Description**                | `0x4`      | `0x20`             | Unsigned long (Big end-ian) | Token-value pair. Delimited,by \"=\" | `0x7C`  | ... | Token-value pair. Delimited,by \"=\" | `0x03`   |"
   ]
  },
  {
   "cell_type": "markdown",
   "metadata": {},
   "source": [
    "## Token lookup"
   ]
  },
  {
   "cell_type": "code",
   "execution_count": 2,
   "metadata": {
    "collapsed": true
   },
   "outputs": [],
   "source": [
    "token_lookup = {}\n",
    "\n",
    "TOKEN_NUMBER = 0\n",
    "TOKEN_NAME = 1\n",
    "\n",
    "with open('data/tokens.csv', 'rt') as csvfile:\n",
    "    r = csv.reader(csvfile, delimiter=';')\n",
    "    \n",
    "    for row in r:\n",
    "        token_lookup[row[TOKEN_NUMBER]] = row[TOKEN_NAME]"
   ]
  },
  {
   "cell_type": "markdown",
   "metadata": {
    "collapsed": true
   },
   "source": [
    "# Read FIX file"
   ]
  },
  {
   "cell_type": "code",
   "execution_count": 15,
   "metadata": {},
   "outputs": [],
   "source": [
    "with open('data/2018-04-26_morning_10min_1_feed.dat', 'r', encoding = \"ISO-8859-1\") as f:\n",
    "    read_data = f.read()"
   ]
  },
  {
   "cell_type": "markdown",
   "metadata": {},
   "source": [
    "Split messages on frame end `0x03`"
   ]
  },
  {
   "cell_type": "code",
   "execution_count": 17,
   "metadata": {
    "collapsed": true
   },
   "outputs": [],
   "source": [
    "fix_messages = read_data.split('\\x03')"
   ]
  },
  {
   "cell_type": "code",
   "execution_count": 32,
   "metadata": {},
   "outputs": [],
   "source": [
    "fix_len = []\n",
    "for f in fix_messages:\n",
    "    fix_len.append(len(f) + 1)"
   ]
  },
  {
   "cell_type": "code",
   "execution_count": 20,
   "metadata": {},
   "outputs": [
    {
     "data": {
      "text/plain": [
       "10193231"
      ]
     },
     "execution_count": 20,
     "metadata": {},
     "output_type": "execute_result"
    }
   ],
   "source": [
    "len(fix_len)"
   ]
  },
  {
   "cell_type": "code",
   "execution_count": 42,
   "metadata": {},
   "outputs": [],
   "source": [
    "fix_len = list(zip(fix_messages, fix_len))"
   ]
  },
  {
   "cell_type": "code",
   "execution_count": 46,
   "metadata": {},
   "outputs": [],
   "source": [
    "fix = pd.DataFrame(data=fix_len, columns=['FIX','LEN'])"
   ]
  },
  {
   "cell_type": "code",
   "execution_count": 68,
   "metadata": {},
   "outputs": [
    {
     "data": {
      "text/plain": [
       "count    1.019323e+07\n",
       "mean     1.443948e+02\n",
       "std      3.405526e+01\n",
       "min      1.000000e+00\n",
       "25%      1.480000e+02\n",
       "50%      1.560000e+02\n",
       "75%      1.580000e+02\n",
       "max      1.913000e+03\n",
       "Name: LEN, dtype: float64"
      ]
     },
     "execution_count": 68,
     "metadata": {},
     "output_type": "execute_result"
    }
   ],
   "source": [
    "fix.LEN.describe()"
   ]
  },
  {
   "cell_type": "code",
   "execution_count": 83,
   "metadata": {},
   "outputs": [
    {
     "data": {
      "text/plain": [
       "156.0"
      ]
     },
     "execution_count": 83,
     "metadata": {},
     "output_type": "execute_result"
    }
   ],
   "source": [
    "fix.LEN.median()"
   ]
  },
  {
   "cell_type": "code",
   "execution_count": 65,
   "metadata": {},
   "outputs": [
    {
     "data": {
      "text/plain": [
       "'\\x04 \\x00\\x00\\x07r3=922|4=922|5=.CSP.EXTENDED|437=1524730200|13535=1521699882|13536=35+01:45|13540=20180426081000000|13541=1524730200|13400=34|13403=1523747320.62923|13406=6886933878275|13407=25224826853|13408=27066171802|13409=39401519204|13410=873628939|13411=34840795|13412=195248662940|13413=23907999015|13415=33939169169|13416=398466650|13417=656691976|13418=698246036|13419=6641111|13420=11637409|13421=19254787|13422=4295852954|13423=429584830|13425=476914122|13426=7159747|13427=7948517|13428=13152418|13429=455111050|13430=7585102|13431=11492655|13432=6547736|13433=46449602934|13434=170131326|13435=271904385|13436=935689020|13437=19784641|13438=973823|13439=1013713585|13440=124128191|13442=398148945|13443=2068803|13444=15594817|13445=10407488|13446=34480|13447=173457|13448=512839|13449=69832015|13450=6983194|13452=8313766|13453=116387|13454=138562|13455=481334|13456=6518406|13457=108639|13458=298183|13459=109152|13460=11587599|13461=9|13462=14|13463=32994|13464=13|13465=14|13466=14118|13467=10|13468=9332|13469=772567917443|13470=2829690584|13471=3899420353|13472=11877736337|13473=344310494|13474=19327048|13475=19887873827|13476=2435249803|13478=6549849140|13479=40587497|13480=197962269|13481=344310494|13482=676458|13483=5738446|13484=19327048|13485=2340572193|13486=234056966|13488=344310494|13489=3900949|13490=5738446|13491=19327048|13492=344310494|13493=5738446|13494=19327048|13495=5679380|13496=29389220436|13497=107644129|13498=3899420353|13499=11877736337|13500=10082127|13501=450628|13502=709916418|13503=86928539|13505=255752444|13506=1448809|13507=8683844|13508=6794184|13509=24147|13510=113236|13511=376665|13512=56146309|13513=5614625|13515=6367810|13516=93577|13517=106129|13518=314790|13519=6281599|13520=104692|13521=314790|13522=100879|13523=73900072|13524=4172392|13525=4172392|13526=1112819|13527=136264|13528=713465|13530=713465|13531=0|13532=0|13533=0|13534=0|13542=1524287230.7845'"
      ]
     },
     "execution_count": 65,
     "metadata": {},
     "output_type": "execute_result"
    }
   ],
   "source": [
    "fix.loc[4584800].FIX"
   ]
  },
  {
   "cell_type": "code",
   "execution_count": 62,
   "metadata": {},
   "outputs": [
    {
     "data": {
      "text/html": [
       "<div>\n",
       "<style>\n",
       "    .dataframe thead tr:only-child th {\n",
       "        text-align: right;\n",
       "    }\n",
       "\n",
       "    .dataframe thead th {\n",
       "        text-align: left;\n",
       "    }\n",
       "\n",
       "    .dataframe tbody tr th {\n",
       "        vertical-align: top;\n",
       "    }\n",
       "</style>\n",
       "<table border=\"1\" class=\"dataframe\">\n",
       "  <thead>\n",
       "    <tr style=\"text-align: right;\">\n",
       "      <th></th>\n",
       "      <th>FIX</th>\n",
       "      <th>LEN</th>\n",
       "    </tr>\n",
       "  </thead>\n",
       "  <tbody>\n",
       "    <tr>\n",
       "      <th>4584800</th>\n",
       "      <td>\u0004 \u0000\u0000\u0007r3=922|4=922|5=.CSP.EXTENDED|437=15247302...</td>\n",
       "      <td>1913</td>\n",
       "    </tr>\n",
       "    <tr>\n",
       "      <th>5949217</th>\n",
       "      <td>\u0004 \u0000\u0000\u0007r3=922|4=922|5=.CSP.EXTENDED|437=15247302...</td>\n",
       "      <td>1913</td>\n",
       "    </tr>\n",
       "  </tbody>\n",
       "</table>\n",
       "</div>"
      ],
      "text/plain": [
       "                                                       FIX   LEN\n",
       "4584800  \u0004 \u0000\u0000\u0007r3=922|4=922|5=.CSP.EXTENDED|437=15247302...  1913\n",
       "5949217  \u0004 \u0000\u0000\u0007r3=922|4=922|5=.CSP.EXTENDED|437=15247302...  1913"
      ]
     },
     "execution_count": 62,
     "metadata": {},
     "output_type": "execute_result"
    }
   ],
   "source": [
    "fix[fix.LEN == fix.LEN.max()]"
   ]
  },
  {
   "cell_type": "code",
   "execution_count": 82,
   "metadata": {},
   "outputs": [
    {
     "data": {
      "image/png": "[encoded data removed]",
      "text/plain": [
       "<matplotlib.figure.Figure at 0x39f9a69b0>"
      ]
     },
     "metadata": {},
     "output_type": "display_data"
    }
   ],
   "source": [
    "# the histogram of the data\n",
    "plt.hist(fix.LEN, 80, normed=1, facecolor='green', alpha=0.75)\n",
    "\n",
    "\n",
    "plt.xlabel('Message length (bytes)')\n",
    "plt.ylabel('Count')\n",
    "plt.title('Histogram of FIX message lengths')\n",
    "#plt.text(60, .025, r'$\\mu=100,\\ \\sigma=15$')\n",
    "plt.axis([0, 500, 0, 0.034])\n",
    "plt.grid(True)\n",
    "plt.show()"
   ]
  },
  {
   "cell_type": "markdown",
   "metadata": {},
   "source": [
    "### Clean messages"
   ]
  },
  {
   "cell_type": "markdown",
   "metadata": {},
   "source": [
    "Remove incomplete messages"
   ]
  },
  {
   "cell_type": "code",
   "execution_count": 213,
   "metadata": {
    "collapsed": true
   },
   "outputs": [],
   "source": [
    "del fix_messages[-1]"
   ]
  },
  {
   "cell_type": "markdown",
   "metadata": {},
   "source": [
    "Remove header (*Frame start, Protocol signature and Length*)"
   ]
  },
  {
   "cell_type": "code",
   "execution_count": 214,
   "metadata": {
    "collapsed": true
   },
   "outputs": [],
   "source": [
    "remove_header = lambda f: f[6:]\n",
    "fix_messages = list(map(remove_header, fix_messages))"
   ]
  },
  {
   "cell_type": "markdown",
   "metadata": {},
   "source": [
    "Split Token values"
   ]
  },
  {
   "cell_type": "code",
   "execution_count": 215,
   "metadata": {
    "collapsed": true
   },
   "outputs": [],
   "source": [
    "fix_messages = list(map(lambda f: f.split('|'), fix_messages))"
   ]
  },
  {
   "cell_type": "code",
   "execution_count": 216,
   "metadata": {
    "collapsed": true
   },
   "outputs": [],
   "source": [
    "# Generator that splits the token-values in to a tuple and translates tokens number to token name\n",
    "def lookup_fix(fm):\n",
    "    def fix_stream():\n",
    "        for m in fm:\n",
    "            fix_message = {}\n",
    "            for tv in m:\n",
    "                t, v = tuple(tv.split('='))\n",
    "                fix_message[token_lookup.get(t)] = v\n",
    "            yield fix_message\n",
    "    return fix_stream()"
   ]
  },
  {
   "cell_type": "code",
   "execution_count": 217,
   "metadata": {
    "collapsed": true
   },
   "outputs": [],
   "source": [
    "fix_messages = lookup_fix(fix_messages)"
   ]
  },
  {
   "cell_type": "code",
   "execution_count": 222,
   "metadata": {
    "scrolled": true
   },
   "outputs": [
    {
     "name": "stdout",
     "output_type": "stream",
     "text": [
      "{'BID.PRICE': '260.65', 'QUOTE.DATETIME': '1523363663.77953', 'ACTIVITY.DATETIME': '1523363663.77953', 'BID.SIZE': '2054', 'PERMISSION': '788', 'QUOTE.OFFICIAL.DATE': '20180410', 'DELAY_MINS': '15', 'MID.PRICE': '260.6551', 'SYMBOL.TICKER': 'E:NRGW', 'QUOTE.OFFICIAL.TIME': '123423775831000', 'BID.COUNT': '1', 'ENUM.SRC.ID': '788', 'EXCH.MESSAGE.TIMESTAMP': '123423775878000'}\n",
      "SYMBOL.TICKER E:NRGW\n",
      "QUOTE.DATETIME 1523363663.77953\n",
      "BID.PRICE 260.65\n"
     ]
    }
   ],
   "source": [
    "for f in fix_messages:\n",
    "    print('SYMBOL.TICKER', f.get('SYMBOL.TICKER'))\n",
    "    print('QUOTE.DATETIME', f.get('QUOTE.DATETIME'))\n",
    "    print('BID.PRICE', f.get('BID.PRICE'))\n",
    "    break"
   ]
  },
  {
   "cell_type": "code",
   "execution_count": 180,
   "metadata": {
    "collapsed": true
   },
   "outputs": [],
   "source": [
    "buffer = read_data\n",
    "\n",
    "from collections import Counter\n",
    "\n",
    "cnt = Counter()\n",
    "\n",
    "for fix_message in buffer.split('\\x04'):\n",
    "    #print(fix_message)\n",
    "    val = fix_message.split('|')\n",
    "    \n",
    "    if(len(val[0]) == 0):\n",
    "        continue\n",
    "    \n",
    "    for tv in val:\n",
    "        try:\n",
    "            t, v = tv.split('=')\n",
    "        except (ValueError):\n",
    "            continue\n",
    "        \n",
    "        tn = token_lookup.get(t)\n",
    "        cnt[tn] += 1\n",
    "        \n",
    "        #print(v, '=', tn)\n",
    "    #print('\\n')\n"
   ]
  },
  {
   "cell_type": "code",
   "execution_count": null,
   "metadata": {
    "collapsed": true
   },
   "outputs": [],
   "source": []
  },
  {
   "cell_type": "code",
   "execution_count": 181,
   "metadata": {},
   "outputs": [
    {
     "name": "stdout",
     "output_type": "stream",
     "text": [
      "Total messages 153695\n",
      "153693\tENUM.SRC.ID\n",
      "153693\tSYMBOL.TICKER\n",
      "153692\tDELAY_MINS\n",
      "153692\tACTIVITY.DATETIME\n",
      "153691\tNone\n",
      "153684\tEXCH.MESSAGE.TIMESTAMP\n",
      "149689\tQUOTE.OFFICIAL.TIME\n",
      "149689\tQUOTE.OFFICIAL.DATE\n",
      "149689\tQUOTE.DATETIME\n",
      "148507\tMID.PRICE\n",
      "75307\tBID.SIZE\n",
      "75307\tBID.PRICE\n",
      "75304\tBID.COUNT\n",
      "74385\tASK.COUNT\n",
      "74385\tASK.SIZE\n",
      "74385\tASK.PRICE\n",
      "1411\tDYNAMIC.UPPER.LMT\n",
      "1411\tDYNAMIC.LOWER.LMT\n",
      "389\tTRADE.TOTAL.VALUE\n",
      "389\tTRADE.COND_1\n",
      "389\tNOMINAL.VALUE\n",
      "389\tTRADE.VALUE\n",
      "389\tTRADE.DATETIME\n",
      "389\tTRADE.OFFICIAL.DATE\n",
      "389\tMMT.TRADE.OFFICIAL.TIME\n",
      "389\tORDERBOOK.TRADE.VOL\n",
      "389\tMMT.TRADE.PRICE\n",
      "389\tTRADE.PRICE\n",
      "389\tTRADE.OFFICIAL.TIME\n",
      "389\tMMT.TRADE.UNIQUE.ID\n",
      "389\tEXTENDED.MMID1\n",
      "389\tORDERBOOK.TRADE.COUNT\n",
      "389\tPCT.CHG\n",
      "389\tORDERBOOK.TURNOVER\n",
      "389\tTRADE.UNIQUE.ID\n",
      "389\tTRADE.TREND\n",
      "389\tMMT.TRADE.SIZE\n",
      "389\tTRADE.SIZE\n",
      "389\tTRADE.VOL\n",
      "389\tTRADE.TICK\n",
      "389\tPRICE.CODE\n",
      "389\tCHG\n",
      "389\tEXECUTION.VENUE.ID\n",
      "389\tTRADE.COUNT\n",
      "389\tCURRENCY.STRING\n",
      "389\tVWAP\n",
      "388\tTRADE.COND_2\n",
      "357\tMMT.ALGO.TRADE\n",
      "330\tNOMINAL.CURRENCY\n",
      "16\tTRADE.LOW\n",
      "10\tTRADE.HIGH\n",
      "6\tTRADE.BLOCK.COUNT\n",
      "6\tTRADABLE.STATUS\n",
      "6\tINSTR.STATUS\n",
      "6\tMARKET.PHASE\n",
      "6\tREASON.CODE\n",
      "6\tSYMBOL.SUSPENDED\n",
      "6\tORDER.STATUS\n",
      "6\tTRADE.BLOCK.VOL\n",
      "5\tAUCTION.PRICE\n",
      "5\tTHEORETICAL.OPEN\n",
      "5\tIMBALANCE.SIDE\n",
      "5\tPQ.AUCTION.PRICE\n",
      "5\tTHEORETICAL.OPEN_CLOSE.VOL\n",
      "5\tORDER.IMBALANCE.VOL\n",
      "5\tTS.AUCTION.PRICE\n",
      "4\tTRADE.OPEN\n",
      "2\tPERMISSION\n"
     ]
    }
   ],
   "source": [
    "print(\"Total messages\", len(buffer.split('\\x04')))\n",
    "for tn, c in cnt.most_common():\n",
    "    print(c, tn, sep='\\t')"
   ]
  },
  {
   "cell_type": "code",
   "execution_count": 73,
   "metadata": {
    "collapsed": true
   },
   "outputs": [],
   "source": [
    "ASRNL = read_data[0:160]"
   ]
  },
  {
   "cell_type": "code",
   "execution_count": 74,
   "metadata": {
    "collapsed": true
   },
   "outputs": [],
   "source": [
    "ASRNL_payload = ASRNL[6:-1]"
   ]
  },
  {
   "cell_type": "code",
   "execution_count": 108,
   "metadata": {},
   "outputs": [
    {
     "name": "stdout",
     "output_type": "stream",
     "text": [
      "3\t788\tPERMISSION\n",
      "4\t788\tENUM.SRC.ID\n",
      "5\tE:ASRNL\tSYMBOL.TICKER\n",
      "269\t15\tDELAY_MINS\n",
      "211\t5\tASK.COUNT\n",
      "10\t37.58\tASK.PRICE\n",
      "11\t788\tASK.SIZE\n",
      "55\t123423768660000\tEXCH.MESSAGE.TIMESTAMP\n",
      "347\t37.5488\tMID.PRICE\n",
      "20\t1523363663.77077\tQUOTE.DATETIME\n",
      "824\t20180410\tQUOTE.OFFICIAL.DATE\n",
      "25\t123423768607000\tQUOTE.OFFICIAL.TIME\n",
      "16\t1523363663.77077\tACTIVITY.DATETIME\n"
     ]
    }
   ],
   "source": [
    "for value in ASRNL_payload.split('|'):\n",
    "    t, v = value.split('=')\n",
    "    print(t,v, token_lookup.get(t), sep='\\t')"
   ]
  },
  {
   "cell_type": "code",
   "execution_count": null,
   "metadata": {
    "collapsed": true
   },
   "outputs": [],
   "source": []
  }
 ],
 "metadata": {
  "kernelspec": {
   "display_name": "Python 3",
   "language": "python",
   "name": "python3"
  },
  "language_info": {
   "codemirror_mode": {
    "name": "ipython",
    "version": 3
   },
   "file_extension": ".py",
   "mimetype": "text/x-python",
   "name": "python",
   "nbconvert_exporter": "python",
   "pygments_lexer": "ipython3",
   "version": "3.5.3"
  }
 },
 "nbformat": 4,
 "nbformat_minor": 2
}
