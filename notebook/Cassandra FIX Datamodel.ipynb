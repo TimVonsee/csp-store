{
 "cells": [
  {
   "cell_type": "markdown",
   "metadata": {},
   "source": [
    "# Cassandra FIX Datamodels"
   ]
  },
  {
   "cell_type": "markdown",
   "metadata": {},
   "source": [
    "## Notes\n",
    "\n",
    "\n",
    "### Links\n",
    "\n",
    "- [Cassandra Driver](https://datastax.github.io/python-driver/getting_started.html)\n",
    "- [Ebay data modeling](https://www.ebayinc.com/stories/blogs/tech/cassandra-data-modeling-best-practices-part-1/)\n",
    "- [Time series modeling at massive scale](http://thelastpickle.com/blog/2017/08/02/time-series-data-modeling-massive-scale.html)\n",
    "- [Advanced-time-series-with-cassandra](https://www.datastax.com/dev/blog/advanced-time-series-with-cassandra)\n",
    "- ⭐️  [Getting-started-time-series-data-modeling](https://academy.datastax.com/resources/getting-started-time-series-data-modeling)\n",
    "- [Partitioning and replication](https://www.datastax.com/resources/tutorials/partitioning-and-replication)"
   ]
  },
  {
   "cell_type": "code",
   "execution_count": 1,
   "metadata": {
    "collapsed": true
   },
   "outputs": [],
   "source": [
    "%matplotlib inline\n",
    "from cassandra.cluster import Cluster\n",
    "import pandas as pd\n",
    "\n",
    "import matplotlib\n",
    "import numpy as np\n",
    "import matplotlib.pyplot as plt"
   ]
  },
  {
   "cell_type": "code",
   "execution_count": 2,
   "metadata": {
    "collapsed": true
   },
   "outputs": [],
   "source": [
    "cluster = Cluster()\n",
    "s = cluster.connect()"
   ]
  },
  {
   "cell_type": "markdown",
   "metadata": {},
   "source": [
    "Pandas intergration"
   ]
  },
  {
   "cell_type": "code",
   "execution_count": 3,
   "metadata": {
    "collapsed": true
   },
   "outputs": [],
   "source": [
    "def pandas_factory(colnames, rows):\n",
    "    return pd.DataFrame(rows, columns=colnames)\n",
    "\n",
    "s.row_factory = pandas_factory\n",
    "s.default_fetch_size = None"
   ]
  },
  {
   "cell_type": "markdown",
   "metadata": {},
   "source": [
    "## Create keyspace"
   ]
  },
  {
   "cell_type": "code",
   "execution_count": 58,
   "metadata": {
    "collapsed": true
   },
   "outputs": [],
   "source": [
    "KEY_SPACE_NAME = \"fix_db\""
   ]
  },
  {
   "cell_type": "code",
   "execution_count": 59,
   "metadata": {},
   "outputs": [
    {
     "data": {
      "text/plain": [
       "<cassandra.cluster.ResultSet at 0x1cd39fcf8>"
      ]
     },
     "execution_count": 59,
     "metadata": {},
     "output_type": "execute_result"
    }
   ],
   "source": [
    "s.execute(\"DROP KEYSPACE \" + KEY_SPACE_NAME )"
   ]
  },
  {
   "cell_type": "code",
   "execution_count": 60,
   "metadata": {
    "collapsed": true
   },
   "outputs": [],
   "source": [
    "KEY_SPACE = \"CREATE KEYSPACE IF NOT EXISTS \" + KEY_SPACE_NAME + \" WITH REPLICATION = { 'class' : 'SimpleStrategy', 'replication_factor' : 1 };\"\n",
    "\n",
    "s.execute(KEY_SPACE)\n",
    "s.set_keyspace(KEY_SPACE_NAME)"
   ]
  },
  {
   "cell_type": "markdown",
   "metadata": {},
   "source": [
    "## Data models\n",
    "\n",
    "### Bucketing\n",
    "Multiple transactions happen per time unit (week, day, hour, minute) per *stock symbol* per *Source id*. The right time granularity must be chosen to make sure the maximum ammount of columns (2.000.000.000) is not exeeded. This is done through \"bucketing\". For now the daily time granularity sufficies. \n",
    "\n",
    "<center>**Bucketing per time granularity**</center>\n",
    "\n",
    "\n",
    "| Time     | Record per second |\n",
    "|----------|-------------------|\n",
    "| Minute   | 33.333.333        |\n",
    "| Hourly   | 555.555           |\n",
    "| Daily    | 23.148            |\n",
    "| Weekly   | 3.306             |\n",
    "| Monthly  | 826               |\n",
    "| Quaterly | 275               |\n",
    "| Yearly   | 68                |\n",
    "\n"
   ]
  },
  {
   "cell_type": "markdown",
   "metadata": {
    "collapsed": true
   },
   "source": [
    "### FIX by day\n",
    "Storing _all_ data by day timegranulairty\n",
    "Primary key:\n",
    "- **Source ID**, the id of the source (i.e. *ICE*)\n",
    "- **Symbol**, the stock symbol (i.e. *AAPL*, *GOOGL*)\n",
    "- **Day**, the day the transaction happend (*YYYYMMDD*)\n",
    "- **Unique timestamp**, this is a generated value to prevent bid timestamp collisions\n",
    "\n",
    "Columns:\n",
    "- FIX, Map containing all FIX values by token name"
   ]
  },
  {
   "cell_type": "code",
   "execution_count": 53,
   "metadata": {},
   "outputs": [
    {
     "data": {
      "text/plain": [
       "<cassandra.cluster.ResultSet at 0x1186d0b38>"
      ]
     },
     "execution_count": 53,
     "metadata": {},
     "output_type": "execute_result"
    }
   ],
   "source": [
    "FIX_BY_DAY_TABLE = \"\"\"\n",
    "CREATE TABLE IF NOT EXISTS fix_by_day (\n",
    "src_id text,\n",
    "symbol text,\n",
    "day timestamp,\n",
    "uts timeuuid,\n",
    "fix map<text,text>,\n",
    "primary key((src_id, symbol, day), uts)\n",
    ")\n",
    "\"\"\"\n",
    "\n",
    "s.execute(FIX_BY_DAY_TABLE)"
   ]
  },
  {
   "cell_type": "code",
   "execution_count": 55,
   "metadata": {},
   "outputs": [
    {
     "data": {
      "text/html": [
       "<div>\n",
       "<style>\n",
       "    .dataframe thead tr:only-child th {\n",
       "        text-align: right;\n",
       "    }\n",
       "\n",
       "    .dataframe thead th {\n",
       "        text-align: left;\n",
       "    }\n",
       "\n",
       "    .dataframe tbody tr th {\n",
       "        vertical-align: top;\n",
       "    }\n",
       "</style>\n",
       "<table border=\"1\" class=\"dataframe\">\n",
       "  <thead>\n",
       "    <tr style=\"text-align: right;\">\n",
       "      <th></th>\n",
       "      <th>src_id</th>\n",
       "      <th>symbol</th>\n",
       "      <th>day</th>\n",
       "      <th>uts</th>\n",
       "      <th>fix</th>\n",
       "    </tr>\n",
       "  </thead>\n",
       "  <tbody>\n",
       "    <tr>\n",
       "      <th>151135</th>\n",
       "      <td>788</td>\n",
       "      <td>P:1052P</td>\n",
       "      <td>2018-04-10</td>\n",
       "      <td>98fe95f8-529b-11e8-9fb9-8bb2d55d4160</td>\n",
       "      <td>[ASK.COUNT, ASK.PRICE, ASK.SIZE, DELAY_MINS, E...</td>\n",
       "    </tr>\n",
       "    <tr>\n",
       "      <th>151136</th>\n",
       "      <td>788</td>\n",
       "      <td>P:5430C</td>\n",
       "      <td>2018-04-10</td>\n",
       "      <td>94c8183a-529b-11e8-9fb9-8bb2d55d4160</td>\n",
       "      <td>[BID.COUNT, BID.PRICE, BID.SIZE, DELAY_MINS, E...</td>\n",
       "    </tr>\n",
       "    <tr>\n",
       "      <th>151137</th>\n",
       "      <td>788</td>\n",
       "      <td>P:5430C</td>\n",
       "      <td>2018-04-10</td>\n",
       "      <td>94c83f4a-529b-11e8-9fb9-8bb2d55d4160</td>\n",
       "      <td>[BID.COUNT, BID.PRICE, BID.SIZE, DELAY_MINS, E...</td>\n",
       "    </tr>\n",
       "    <tr>\n",
       "      <th>151138</th>\n",
       "      <td>788</td>\n",
       "      <td>P:5430C</td>\n",
       "      <td>2018-04-10</td>\n",
       "      <td>996c24d0-529b-11e8-9fb9-8bb2d55d4160</td>\n",
       "      <td>[BID.COUNT, BID.PRICE, BID.SIZE, DELAY_MINS, E...</td>\n",
       "    </tr>\n",
       "    <tr>\n",
       "      <th>151139</th>\n",
       "      <td>788</td>\n",
       "      <td>P:5430C</td>\n",
       "      <td>2018-04-10</td>\n",
       "      <td>996c24da-529b-11e8-9fb9-8bb2d55d4160</td>\n",
       "      <td>[BID.COUNT, BID.PRICE, BID.SIZE, DELAY_MINS, E...</td>\n",
       "    </tr>\n",
       "  </tbody>\n",
       "</table>\n",
       "</div>"
      ],
      "text/plain": [
       "       src_id   symbol        day                                   uts  \\\n",
       "151135    788  P:1052P 2018-04-10  98fe95f8-529b-11e8-9fb9-8bb2d55d4160   \n",
       "151136    788  P:5430C 2018-04-10  94c8183a-529b-11e8-9fb9-8bb2d55d4160   \n",
       "151137    788  P:5430C 2018-04-10  94c83f4a-529b-11e8-9fb9-8bb2d55d4160   \n",
       "151138    788  P:5430C 2018-04-10  996c24d0-529b-11e8-9fb9-8bb2d55d4160   \n",
       "151139    788  P:5430C 2018-04-10  996c24da-529b-11e8-9fb9-8bb2d55d4160   \n",
       "\n",
       "                                                      fix  \n",
       "151135  [ASK.COUNT, ASK.PRICE, ASK.SIZE, DELAY_MINS, E...  \n",
       "151136  [BID.COUNT, BID.PRICE, BID.SIZE, DELAY_MINS, E...  \n",
       "151137  [BID.COUNT, BID.PRICE, BID.SIZE, DELAY_MINS, E...  \n",
       "151138  [BID.COUNT, BID.PRICE, BID.SIZE, DELAY_MINS, E...  \n",
       "151139  [BID.COUNT, BID.PRICE, BID.SIZE, DELAY_MINS, E...  "
      ]
     },
     "execution_count": 55,
     "metadata": {},
     "output_type": "execute_result"
    }
   ],
   "source": [
    "rslt = s.execute(\"SELECT * FROM fix_by_day\", timeout=None)\n",
    "rslt._current_rows.tail()"
   ]
  },
  {
   "cell_type": "markdown",
   "metadata": {},
   "source": [
    "### Bids by day\n",
    "Primary key:\n",
    "- **Source id**\n",
    "- **Symbol**\n",
    "- **Day**\n",
    "- **Unique timestamp**\n",
    "- **Bid timestamp**, exact timestamp of bid\n",
    "\n",
    "Columns:\n",
    "- **Bid price**\n",
    "- **Bid size**"
   ]
  },
  {
   "cell_type": "code",
   "execution_count": 145,
   "metadata": {},
   "outputs": [
    {
     "data": {
      "text/plain": [
       "<cassandra.cluster.ResultSet at 0x10c0d37f0>"
      ]
     },
     "execution_count": 145,
     "metadata": {},
     "output_type": "execute_result"
    }
   ],
   "source": [
    "BIDS_BY_DAY = \"\"\"\n",
    "CREATE TABLE IF NOT EXISTS bids_by_day (\n",
    "src_id text,\n",
    "symbol text,\n",
    "day timestamp,\n",
    "uts timeuuid,\n",
    "bid_ts timestamp,\n",
    "bid_price text,\n",
    "bid_size text,\n",
    "primary key((src_id, symbol, day), bid_ts, uts)\n",
    ")\n",
    "\"\"\"\n",
    "\n",
    "s.execute(BIDS_BY_DAY)"
   ]
  },
  {
   "cell_type": "code",
   "execution_count": 11,
   "metadata": {},
   "outputs": [
    {
     "data": {
      "text/plain": [
       "<cassandra.cluster.ResultSet at 0x103df2f28>"
      ]
     },
     "execution_count": 11,
     "metadata": {},
     "output_type": "execute_result"
    }
   ],
   "source": [
    "s.execute(\"\"\"INSERT INTO bids_by_day (src_id, symbol, day, uts, bid_ts, bid_price, bid_size) VALUES ('788', 'P:7M49Z', '2018-04-10', now(), '2018-04-10T14:34:32.523+0200', '2.19', '60000');\"\"\")"
   ]
  },
  {
   "cell_type": "code",
   "execution_count": 149,
   "metadata": {},
   "outputs": [
    {
     "data": {
      "text/html": [
       "<div>\n",
       "<style>\n",
       "    .dataframe thead tr:only-child th {\n",
       "        text-align: right;\n",
       "    }\n",
       "\n",
       "    .dataframe thead th {\n",
       "        text-align: left;\n",
       "    }\n",
       "\n",
       "    .dataframe tbody tr th {\n",
       "        vertical-align: top;\n",
       "    }\n",
       "</style>\n",
       "<table border=\"1\" class=\"dataframe\">\n",
       "  <thead>\n",
       "    <tr style=\"text-align: right;\">\n",
       "      <th></th>\n",
       "      <th>src_id</th>\n",
       "      <th>symbol</th>\n",
       "      <th>day</th>\n",
       "      <th>bid_ts</th>\n",
       "      <th>uts</th>\n",
       "      <th>bid_price</th>\n",
       "      <th>bid_size</th>\n",
       "    </tr>\n",
       "  </thead>\n",
       "  <tbody>\n",
       "    <tr>\n",
       "      <th>74035</th>\n",
       "      <td>788</td>\n",
       "      <td>W:4416T</td>\n",
       "      <td>2018-04-10</td>\n",
       "      <td>2018-04-10 12:34:31.718</td>\n",
       "      <td>37c1c9a9-4eee-11e8-a193-3347a40c632a</td>\n",
       "      <td>5.779</td>\n",
       "      <td>25000</td>\n",
       "    </tr>\n",
       "    <tr>\n",
       "      <th>74036</th>\n",
       "      <td>788</td>\n",
       "      <td>P:1052P</td>\n",
       "      <td>2018-04-10</td>\n",
       "      <td>2018-04-10 12:34:26.125</td>\n",
       "      <td>35241421-4eee-11e8-a193-3347a40c632a</td>\n",
       "      <td>1.719</td>\n",
       "      <td>125000</td>\n",
       "    </tr>\n",
       "    <tr>\n",
       "      <th>74037</th>\n",
       "      <td>788</td>\n",
       "      <td>P:1052P</td>\n",
       "      <td>2018-04-10</td>\n",
       "      <td>2018-04-10 12:34:29.152</td>\n",
       "      <td>36edd7a6-4eee-11e8-a193-3347a40c632a</td>\n",
       "      <td>1.72</td>\n",
       "      <td>125000</td>\n",
       "    </tr>\n",
       "    <tr>\n",
       "      <th>74038</th>\n",
       "      <td>788</td>\n",
       "      <td>P:5430C</td>\n",
       "      <td>2018-04-10</td>\n",
       "      <td>2018-04-10 12:34:25.279</td>\n",
       "      <td>34b99282-4eee-11e8-a193-3347a40c632a</td>\n",
       "      <td>8.01</td>\n",
       "      <td>54800</td>\n",
       "    </tr>\n",
       "    <tr>\n",
       "      <th>74039</th>\n",
       "      <td>788</td>\n",
       "      <td>P:5430C</td>\n",
       "      <td>2018-04-10</td>\n",
       "      <td>2018-04-10 12:34:29.682</td>\n",
       "      <td>37238dc4-4eee-11e8-a193-3347a40c632a</td>\n",
       "      <td>8</td>\n",
       "      <td>54800</td>\n",
       "    </tr>\n",
       "  </tbody>\n",
       "</table>\n",
       "</div>"
      ],
      "text/plain": [
       "      src_id   symbol        day                  bid_ts  \\\n",
       "74035    788  W:4416T 2018-04-10 2018-04-10 12:34:31.718   \n",
       "74036    788  P:1052P 2018-04-10 2018-04-10 12:34:26.125   \n",
       "74037    788  P:1052P 2018-04-10 2018-04-10 12:34:29.152   \n",
       "74038    788  P:5430C 2018-04-10 2018-04-10 12:34:25.279   \n",
       "74039    788  P:5430C 2018-04-10 2018-04-10 12:34:29.682   \n",
       "\n",
       "                                        uts bid_price bid_size  \n",
       "74035  37c1c9a9-4eee-11e8-a193-3347a40c632a     5.779    25000  \n",
       "74036  35241421-4eee-11e8-a193-3347a40c632a     1.719   125000  \n",
       "74037  36edd7a6-4eee-11e8-a193-3347a40c632a      1.72   125000  \n",
       "74038  34b99282-4eee-11e8-a193-3347a40c632a      8.01    54800  \n",
       "74039  37238dc4-4eee-11e8-a193-3347a40c632a         8    54800  "
      ]
     },
     "execution_count": 149,
     "metadata": {},
     "output_type": "execute_result"
    }
   ],
   "source": [
    "query = 'SELECT * FROM bids_by_day'\n",
    "rslt = s.execute(query, timeout=None)\n",
    "rslt._current_rows.tail()\n"
   ]
  },
  {
   "cell_type": "markdown",
   "metadata": {
    "collapsed": true
   },
   "source": [
    "### Ask by day\n",
    "Primary key:\n",
    "- Source id\n",
    "- Symbol\n",
    "- Day\n",
    "- Unique timestamp\n",
    "- Ask timestamp\n",
    "\n",
    "Columns:\n",
    "- Ask price\n",
    "- Ask size"
   ]
  },
  {
   "cell_type": "code",
   "execution_count": 44,
   "metadata": {},
   "outputs": [
    {
     "data": {
      "text/plain": [
       "<cassandra.cluster.ResultSet at 0x10b8b55f8>"
      ]
     },
     "execution_count": 44,
     "metadata": {},
     "output_type": "execute_result"
    }
   ],
   "source": [
    "ASKS_BY_DAY = \"\"\"\n",
    "CREATE TABLE IF NOT EXISTS asks_by_day (\n",
    "src_id text,\n",
    "symbol text,\n",
    "day timestamp,\n",
    "uts timeuuid,\n",
    "ask_ts timestamp,\n",
    "ask_price text,\n",
    "ask_size text,\n",
    "primary key((src_id, symbol, day), ask_ts, uts)\n",
    ")\n",
    "\"\"\"\n",
    "\n",
    "s.execute(ASKS_BY_DAY)"
   ]
  },
  {
   "cell_type": "code",
   "execution_count": 46,
   "metadata": {},
   "outputs": [
    {
     "data": {
      "text/html": [
       "<div>\n",
       "<style>\n",
       "    .dataframe thead tr:only-child th {\n",
       "        text-align: right;\n",
       "    }\n",
       "\n",
       "    .dataframe thead th {\n",
       "        text-align: left;\n",
       "    }\n",
       "\n",
       "    .dataframe tbody tr th {\n",
       "        vertical-align: top;\n",
       "    }\n",
       "</style>\n",
       "<table border=\"1\" class=\"dataframe\">\n",
       "  <thead>\n",
       "    <tr style=\"text-align: right;\">\n",
       "      <th></th>\n",
       "      <th>src_id</th>\n",
       "      <th>symbol</th>\n",
       "      <th>day</th>\n",
       "      <th>ask_ts</th>\n",
       "      <th>uts</th>\n",
       "      <th>ask_price</th>\n",
       "      <th>ask_size</th>\n",
       "    </tr>\n",
       "  </thead>\n",
       "  <tbody>\n",
       "    <tr>\n",
       "      <th>73161</th>\n",
       "      <td>788</td>\n",
       "      <td>W:4416T</td>\n",
       "      <td>2018-04-10</td>\n",
       "      <td>2018-04-10 12:34:29.890</td>\n",
       "      <td>54334293-4edb-11e8-a193-3347a40c632a</td>\n",
       "      <td>5.793</td>\n",
       "      <td>25000</td>\n",
       "    </tr>\n",
       "    <tr>\n",
       "      <th>73162</th>\n",
       "      <td>788</td>\n",
       "      <td>W:4416T</td>\n",
       "      <td>2018-04-10</td>\n",
       "      <td>2018-04-10 12:34:30.746</td>\n",
       "      <td>5480c656-4edb-11e8-a193-3347a40c632a</td>\n",
       "      <td>5.795</td>\n",
       "      <td>25000</td>\n",
       "    </tr>\n",
       "    <tr>\n",
       "      <th>73163</th>\n",
       "      <td>788</td>\n",
       "      <td>W:4416T</td>\n",
       "      <td>2018-04-10</td>\n",
       "      <td>2018-04-10 12:34:31.718</td>\n",
       "      <td>54f18984-4edb-11e8-a193-3347a40c632a</td>\n",
       "      <td>5.789</td>\n",
       "      <td>25000</td>\n",
       "    </tr>\n",
       "    <tr>\n",
       "      <th>73164</th>\n",
       "      <td>788</td>\n",
       "      <td>P:5430C</td>\n",
       "      <td>2018-04-10</td>\n",
       "      <td>2018-04-10 12:34:25.279</td>\n",
       "      <td>512e18e5-4edb-11e8-a193-3347a40c632a</td>\n",
       "      <td>8.04</td>\n",
       "      <td>54800</td>\n",
       "    </tr>\n",
       "    <tr>\n",
       "      <th>73165</th>\n",
       "      <td>788</td>\n",
       "      <td>P:5430C</td>\n",
       "      <td>2018-04-10</td>\n",
       "      <td>2018-04-10 12:34:29.682</td>\n",
       "      <td>541a1542-4edb-11e8-a193-3347a40c632a</td>\n",
       "      <td>8.03</td>\n",
       "      <td>54800</td>\n",
       "    </tr>\n",
       "  </tbody>\n",
       "</table>\n",
       "</div>"
      ],
      "text/plain": [
       "      src_id   symbol        day                  ask_ts  \\\n",
       "73161    788  W:4416T 2018-04-10 2018-04-10 12:34:29.890   \n",
       "73162    788  W:4416T 2018-04-10 2018-04-10 12:34:30.746   \n",
       "73163    788  W:4416T 2018-04-10 2018-04-10 12:34:31.718   \n",
       "73164    788  P:5430C 2018-04-10 2018-04-10 12:34:25.279   \n",
       "73165    788  P:5430C 2018-04-10 2018-04-10 12:34:29.682   \n",
       "\n",
       "                                        uts ask_price ask_size  \n",
       "73161  54334293-4edb-11e8-a193-3347a40c632a     5.793    25000  \n",
       "73162  5480c656-4edb-11e8-a193-3347a40c632a     5.795    25000  \n",
       "73163  54f18984-4edb-11e8-a193-3347a40c632a     5.789    25000  \n",
       "73164  512e18e5-4edb-11e8-a193-3347a40c632a      8.04    54800  \n",
       "73165  541a1542-4edb-11e8-a193-3347a40c632a      8.03    54800  "
      ]
     },
     "execution_count": 46,
     "metadata": {},
     "output_type": "execute_result"
    }
   ],
   "source": [
    "query = 'SELECT * FROM asks_by_day'\n",
    "rslt = s.execute(query, timeout=None)\n",
    "rslt._current_rows.tail()"
   ]
  },
  {
   "cell_type": "markdown",
   "metadata": {},
   "source": [
    "### Trade by day\n",
    "Primary key:\n",
    "- Source id\n",
    "- Symbol\n",
    "- Day\n",
    "- Unique timestamp\n",
    "- Trade timestamp\n",
    "\n",
    "Columns:\n",
    "- Trade price\n",
    "- Trade size"
   ]
  },
  {
   "cell_type": "code",
   "execution_count": 137,
   "metadata": {},
   "outputs": [
    {
     "data": {
      "text/plain": [
       "<cassandra.cluster.ResultSet at 0x10b8dc438>"
      ]
     },
     "execution_count": 137,
     "metadata": {},
     "output_type": "execute_result"
    }
   ],
   "source": [
    "TRADES_BY_DAY = \"\"\"\n",
    "CREATE TABLE IF NOT EXISTS trades_by_day (\n",
    "src_id text,\n",
    "symbol text,\n",
    "day timestamp,\n",
    "uts timeuuid,\n",
    "trade_ts timestamp,\n",
    "trade_price text,\n",
    "trade_size text,\n",
    "primary key((src_id, symbol, day), trade_ts, uts)\n",
    ")\n",
    "\"\"\"\n",
    "\n",
    "s.execute(TRADES_BY_DAY)"
   ]
  },
  {
   "cell_type": "code",
   "execution_count": 140,
   "metadata": {},
   "outputs": [
    {
     "data": {
      "text/html": [
       "<div>\n",
       "<style>\n",
       "    .dataframe thead tr:only-child th {\n",
       "        text-align: right;\n",
       "    }\n",
       "\n",
       "    .dataframe thead th {\n",
       "        text-align: left;\n",
       "    }\n",
       "\n",
       "    .dataframe tbody tr th {\n",
       "        vertical-align: top;\n",
       "    }\n",
       "</style>\n",
       "<table border=\"1\" class=\"dataframe\">\n",
       "  <thead>\n",
       "    <tr style=\"text-align: right;\">\n",
       "      <th></th>\n",
       "      <th>src_id</th>\n",
       "      <th>symbol</th>\n",
       "      <th>day</th>\n",
       "      <th>trade_ts</th>\n",
       "      <th>uts</th>\n",
       "      <th>trade_price</th>\n",
       "      <th>trade_size</th>\n",
       "    </tr>\n",
       "  </thead>\n",
       "  <tbody>\n",
       "    <tr>\n",
       "      <th>355</th>\n",
       "      <td>788</td>\n",
       "      <td>E:CLA</td>\n",
       "      <td>2018-04-10</td>\n",
       "      <td>2018-04-10 12:34:31.162</td>\n",
       "      <td>c0915b04-4eec-11e8-a193-3347a40c632a</td>\n",
       "      <td>0.89</td>\n",
       "      <td>11700</td>\n",
       "    </tr>\n",
       "    <tr>\n",
       "      <th>356</th>\n",
       "      <td>788</td>\n",
       "      <td>E:CLA</td>\n",
       "      <td>2018-04-10</td>\n",
       "      <td>2018-04-10 12:34:31.162</td>\n",
       "      <td>c0915b05-4eec-11e8-a193-3347a40c632a</td>\n",
       "      <td>0.89</td>\n",
       "      <td>4000</td>\n",
       "    </tr>\n",
       "    <tr>\n",
       "      <th>357</th>\n",
       "      <td>788</td>\n",
       "      <td>E:BX4</td>\n",
       "      <td>2018-04-10</td>\n",
       "      <td>2018-04-10 12:34:29.075</td>\n",
       "      <td>c0823fd1-4eec-11e8-a193-3347a40c632a</td>\n",
       "      <td>4.8275</td>\n",
       "      <td>206</td>\n",
       "    </tr>\n",
       "    <tr>\n",
       "      <th>358</th>\n",
       "      <td>788</td>\n",
       "      <td>E:KER</td>\n",
       "      <td>2018-04-10</td>\n",
       "      <td>2018-04-10 12:34:31.285</td>\n",
       "      <td>c091d031-4eec-11e8-a193-3347a40c632a</td>\n",
       "      <td>428.8</td>\n",
       "      <td>40</td>\n",
       "    </tr>\n",
       "    <tr>\n",
       "      <th>359</th>\n",
       "      <td>788</td>\n",
       "      <td>E:KER</td>\n",
       "      <td>2018-04-10</td>\n",
       "      <td>2018-04-10 12:34:31.285</td>\n",
       "      <td>c091d032-4eec-11e8-a193-3347a40c632a</td>\n",
       "      <td>428.8</td>\n",
       "      <td>22</td>\n",
       "    </tr>\n",
       "  </tbody>\n",
       "</table>\n",
       "</div>"
      ],
      "text/plain": [
       "    src_id symbol        day                trade_ts  \\\n",
       "355    788  E:CLA 2018-04-10 2018-04-10 12:34:31.162   \n",
       "356    788  E:CLA 2018-04-10 2018-04-10 12:34:31.162   \n",
       "357    788  E:BX4 2018-04-10 2018-04-10 12:34:29.075   \n",
       "358    788  E:KER 2018-04-10 2018-04-10 12:34:31.285   \n",
       "359    788  E:KER 2018-04-10 2018-04-10 12:34:31.285   \n",
       "\n",
       "                                      uts trade_price trade_size  \n",
       "355  c0915b04-4eec-11e8-a193-3347a40c632a        0.89      11700  \n",
       "356  c0915b05-4eec-11e8-a193-3347a40c632a        0.89       4000  \n",
       "357  c0823fd1-4eec-11e8-a193-3347a40c632a      4.8275        206  \n",
       "358  c091d031-4eec-11e8-a193-3347a40c632a       428.8         40  \n",
       "359  c091d032-4eec-11e8-a193-3347a40c632a       428.8         22  "
      ]
     },
     "execution_count": 140,
     "metadata": {},
     "output_type": "execute_result"
    }
   ],
   "source": [
    "query = 'SELECT * FROM trades_by_day'\n",
    "rslt = s.execute(query, timeout=None)\n",
    "rslt._current_rows.tail()"
   ]
  },
  {
   "cell_type": "code",
   "execution_count": 142,
   "metadata": {
    "collapsed": true
   },
   "outputs": [],
   "source": [
    "sym = 'E:KBC'\n",
    "mask = rslt._current_rows['symbol'] == sym\n",
    "ask_per_symbol = rslt._current_rows[mask].sort_values(by=['trade_ts'])"
   ]
  },
  {
   "cell_type": "code",
   "execution_count": 143,
   "metadata": {},
   "outputs": [
    {
     "data": {
      "image/png": "[encoded data removed]",
      "text/plain": [
       "<matplotlib.figure.Figure at 0x1158a5160>"
      ]
     },
     "metadata": {},
     "output_type": "display_data"
    }
   ],
   "source": [
    "x = ask_per_symbol['trade_ts'].values\n",
    "y = ask_per_symbol['trade_price'].values\n",
    "y = y.astype(np.float)\n",
    "\n",
    "\n",
    "plt.figure(figsize=(20,8))\n",
    "plt.plot(x,y, '-x')\n",
    "plt.title(sym + \" trades\");"
   ]
  },
  {
   "cell_type": "code",
   "execution_count": null,
   "metadata": {
    "collapsed": true
   },
   "outputs": [],
   "source": [
    "# 8 threads, 10 batch size\n",
    "print(68450 / 9.126)\n",
    "# 10 threads, 20 batch size\n",
    "print(71700 / 7.867)\n",
    "# 10 threads, 50 batch size\n",
    "print(73800 / 6.825)\n",
    "# 10 threads, 60 batch size\n",
    "print(74040 / 6.810)\n",
    "print(74560 / 8.209)\n",
    "print(74559 / 7.673)\n",
    "print(74070 / 6.182)\n",
    "print(151140 / 12.715)\n",
    "print(151140 / 13.485)"
   ]
  }
 ],
 "metadata": {
  "kernelspec": {
   "display_name": "Python 3",
   "language": "python",
   "name": "python3"
  },
  "language_info": {
   "codemirror_mode": {
    "name": "ipython",
    "version": 3
   },
   "file_extension": ".py",
   "mimetype": "text/x-python",
   "name": "python",
   "nbconvert_exporter": "python",
   "pygments_lexer": "ipython3",
   "version": "3.5.3"
  }
 },
 "nbformat": 4,
 "nbformat_minor": 2
}
